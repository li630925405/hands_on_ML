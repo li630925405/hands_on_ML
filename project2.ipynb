{
 "cells": [
  {
   "cell_type": "markdown",
   "metadata": {},
   "source": [
    "## setup"
   ]
  },
  {
   "cell_type": "code",
   "execution_count": 63,
   "metadata": {},
   "outputs": [],
   "source": [
    "# To support both python 2 and python 3\n",
    "from __future__ import division, print_function, unicode_literals\n",
    "\n",
    "# Common imports\n",
    "import numpy as np\n",
    "import os\n",
    "\n",
    "# to make this notebook's output stable across runs\n",
    "np.random.seed(42)\n",
    "\n",
    "# To plot pretty figures\n",
    "%matplotlib inline\n",
    "import matplotlib as mpl\n",
    "import matplotlib.pyplot as plt\n",
    "mpl.rc('axes', labelsize=14)\n",
    "mpl.rc('xtick', labelsize=12)\n",
    "mpl.rc('ytick', labelsize=12)\n",
    "\n",
    "# Where to save the figures\n",
    "PROJECT_ROOT_DIR = \".\"\n",
    "CHAPTER_ID = \"end_to_end_project\"\n",
    "IMAGES_PATH = os.path.join(PROJECT_ROOT_DIR, \"images\", CHAPTER_ID)\n",
    "\n",
    "def save_fig(fig_id, tight_layout=True, fig_extension=\"png\", resolution=300):\n",
    "    path = os.path.join(IMAGES_PATH, fig_id + \".\" + fig_extension)\n",
    "    print(\"Saving figure\", fig_id)\n",
    "    if tight_layout:\n",
    "        plt.tight_layout()\n",
    "    plt.savefig(path, format=fig_extension, dpi=resolution)\n",
    "\n",
    "# Ignore useless warnings (see SciPy issue #5998)\n",
    "import warnings\n",
    "warnings.filterwarnings(action=\"ignore\", message=\"^internal gelsd\")"
   ]
  },
  {
   "cell_type": "markdown",
   "metadata": {},
   "source": [
    "## get the data"
   ]
  },
  {
   "cell_type": "code",
   "execution_count": 64,
   "metadata": {},
   "outputs": [
    {
     "name": "stdout",
     "output_type": "stream",
     "text": [
      "train_size:  (16512, 10)\n"
     ]
    }
   ],
   "source": [
    "import pandas as pd\n",
    "\n",
    "HOUSING_PATH = os.path.join(\"datasets\", \"housing\")\n",
    "def load_housing_data(housing_path=HOUSING_PATH):\n",
    "    csv_path = os.path.join(housing_path, \"housing.csv\")\n",
    "    return pd.read_csv(csv_path)\n",
    "housing = load_housing_data()\n",
    "import matplotlib.pyplot as plt\n",
    "\n",
    "from sklearn.model_selection import train_test_split\n",
    "\n",
    "train_set, test_set = train_test_split(housing, test_size=0.2, random_state=42)\n",
    "print(\"train_size: \", train_set.shape)"
   ]
  },
  {
   "cell_type": "markdown",
   "metadata": {},
   "source": [
    "## prepare the data"
   ]
  },
  {
   "cell_type": "code",
   "execution_count": 65,
   "metadata": {},
   "outputs": [
    {
     "name": "stderr",
     "output_type": "stream",
     "text": [
      "E:\\Users\\63092\\Anaconda3\\lib\\site-packages\\sklearn\\preprocessing\\_function_transformer.py:97: FutureWarning: The default validate=True will be replaced by validate=False in 0.22.\n",
      "  \"validate=False in 0.22.\", FutureWarning)\n",
      "E:\\Users\\63092\\Anaconda3\\lib\\site-packages\\sklearn\\preprocessing\\_function_transformer.py:97: FutureWarning: The default validate=True will be replaced by validate=False in 0.22.\n",
      "  \"validate=False in 0.22.\", FutureWarning)\n"
     ]
    },
    {
     "name": "stdout",
     "output_type": "stream",
     "text": [
      "now:::::::::::::::::::::\n",
      "median_house_value          1.000000\n",
      "median_income               0.690647\n",
      "rooms_per_household         0.158485\n",
      "total_rooms                 0.133989\n",
      "housing_median_age          0.103706\n",
      "households                  0.063714\n",
      "total_bedrooms              0.047980\n",
      "population_per_household   -0.022030\n",
      "population                 -0.026032\n",
      "longitude                  -0.046349\n",
      "latitude                   -0.142983\n",
      "Name: median_house_value, dtype: float64\n",
      "                          longitude  latitude  housing_median_age  \\\n",
      "longitude                  1.000000  0.924485            0.101818   \n",
      "latitude                   0.924485  1.000000            0.005296   \n",
      "housing_median_age         0.101818  0.005296            1.000000   \n",
      "total_rooms                0.038676  0.029224            0.360922   \n",
      "total_bedrooms             0.063064  0.059998            0.320624   \n",
      "population                 0.094276  0.102499            0.292283   \n",
      "households                 0.049306  0.064061            0.302796   \n",
      "median_income              0.017040  0.076571            0.121711   \n",
      "rooms_per_household        0.029339  0.110695            0.160892   \n",
      "population_per_household   0.000598  0.005837            0.016245   \n",
      "median_house_value         0.046349  0.142983            0.103706   \n",
      "\n",
      "                          total_rooms  total_bedrooms  population  households  \\\n",
      "longitude                    0.038676        0.063064    0.094276    0.049306   \n",
      "latitude                     0.029224        0.059998    0.102499    0.064061   \n",
      "housing_median_age           0.360922        0.320624    0.292283    0.302796   \n",
      "total_rooms                  1.000000        0.930489    0.857936    0.920482   \n",
      "total_bedrooms               0.930489        1.000000    0.878932    0.980255   \n",
      "population                   0.857936        0.878932    1.000000    0.907452   \n",
      "households                   0.920482        0.980255    0.907452    1.000000   \n",
      "median_income                0.198268        0.009141    0.004122    0.012776   \n",
      "rooms_per_household          0.136090        0.001659    0.073733    0.083062   \n",
      "population_per_household     0.024991        0.028536    0.072330    0.027656   \n",
      "median_house_value           0.133989        0.047980    0.026032    0.063714   \n",
      "\n",
      "                          median_income  rooms_per_household  \\\n",
      "longitude                      0.017040             0.029339   \n",
      "latitude                       0.076571             0.110695   \n",
      "housing_median_age             0.121711             0.160892   \n",
      "total_rooms                    0.198268             0.136090   \n",
      "total_bedrooms                 0.009141             0.001659   \n",
      "population                     0.004122             0.073733   \n",
      "households                     0.012776             0.083062   \n",
      "median_income                  1.000000             0.336013   \n",
      "rooms_per_household            0.336013             1.000000   \n",
      "population_per_household       0.022061             0.004922   \n",
      "median_house_value             0.690647             0.158485   \n",
      "\n",
      "                          population_per_household  median_house_value  \n",
      "longitude                                 0.000598            0.046349  \n",
      "latitude                                  0.005837            0.142983  \n",
      "housing_median_age                        0.016245            0.103706  \n",
      "total_rooms                               0.024991            0.133989  \n",
      "total_bedrooms                            0.028536            0.047980  \n",
      "population                                0.072330            0.026032  \n",
      "households                                0.027656            0.063714  \n",
      "median_income                             0.022061            0.690647  \n",
      "rooms_per_household                       0.004922            0.158485  \n",
      "population_per_household                  1.000000            0.022030  \n",
      "median_house_value                        0.022030            1.000000  \n",
      "median_house_value          1.000000\n",
      "median_income               0.690647\n",
      "rooms_per_household         0.158485\n",
      "latitude                    0.142983\n",
      "total_rooms                 0.133989\n",
      "housing_median_age          0.103706\n",
      "households                  0.063714\n",
      "total_bedrooms              0.047980\n",
      "longitude                   0.046349\n",
      "population                  0.026032\n",
      "population_per_household    0.022030\n",
      "Name: median_house_value, dtype: float64\n",
      "Index(['median_house_value', 'median_income', 'rooms_per_household',\n",
      "       'latitude', 'total_rooms'],\n",
      "      dtype='object')\n"
     ]
    }
   ],
   "source": [
    "housing = train_set.drop(\"median_house_value\", axis=1) # drop labels for training set\n",
    "housing_labels = train_set[\"median_house_value\"].copy()\n",
    "\n",
    "try:\n",
    "    from sklearn.impute import SimpleImputer # Scikit-Learn 0.20+\n",
    "except ImportError:\n",
    "    from sklearn.preprocessing import Imputer as SimpleImputer\n",
    "\n",
    "# Remove the text attribute because median can only be calculated on numerical attributes\n",
    "housing_num = housing.drop('ocean_proximity', axis=1)\n",
    "\n",
    "############# customize: add attributes #############\n",
    "from sklearn.base import BaseEstimator, TransformerMixin\n",
    "from sklearn.preprocessing import FunctionTransformer\n",
    "try:\n",
    "    from sklearn.preprocessing import OrdinalEncoder # just to raise an ImportError if Scikit-Learn < 0.20\n",
    "    from sklearn.preprocessing import OneHotEncoder\n",
    "except ImportError:\n",
    "    from future_encoders import OneHotEncoder # Scikit-Learn < 0.20\n",
    "\n",
    "# get the right column indices: safer than hard-coding indices 3, 4, 5, 6\n",
    "rooms_ix, bedrooms_ix, population_ix, household_ix = [\n",
    "    list(housing.columns).index(col)\n",
    "    for col in (\"total_rooms\", \"total_bedrooms\", \"population\", \"households\")]\n",
    "\n",
    "def add_extra_features(X, add_bedrooms_per_room=True):\n",
    "    rooms_per_household = X[:, rooms_ix] / X[:, household_ix]\n",
    "    population_per_household = X[:, population_ix] / X[:, household_ix]\n",
    "    if add_bedrooms_per_room:\n",
    "        bedrooms_per_room = X[:, bedrooms_ix] / X[:, rooms_ix]\n",
    "        return np.c_[X, rooms_per_household, population_per_household,\n",
    "                     bedrooms_per_room]\n",
    "    else:\n",
    "        return np.c_[X, rooms_per_household, population_per_household]\n",
    "    \n",
    "def select_features(X, columns):\n",
    "    A = np.array(['rooms_per_household', 'population_per_household']).transpose()\n",
    "    new_c = np.r_[columns, A]\n",
    "    X_tr = pd.DataFrame(X, columns=new_c)\n",
    "    X_tr[\"median_house_value\"] = housing_labels.values\n",
    "    array = pd.Series(list(range(0, 16512)))\n",
    "    X_tr.to_csv(os.path.join(HOUSING_PATH, \"result_lyz.csv\"))\n",
    "    corr_matrix = X_tr.corr()\n",
    "    print(corr_matrix[\"median_house_value\"].sort_values(ascending=False))\n",
    "    corr_matrix = np.abs(corr_matrix)\n",
    "    corr_matrix = corr_matrix[\"median_house_value\"].sort_values(ascending=False)\n",
    "    corr_matrix = corr_matrix[0:5]\n",
    "    print(corr_matrix.index)\n",
    "    return X_tr[np.array(corr_matrix.index)].values\n",
    "        \n",
    "############## pipeline #############\n",
    "from sklearn.pipeline import Pipeline\n",
    "from sklearn.preprocessing import StandardScaler\n",
    "\n",
    "num_pipeline = Pipeline([\n",
    "        ('imputer', SimpleImputer(strategy=\"median\")),  # imcompletion\n",
    "        ('attribs_adder', FunctionTransformer(add_extra_features, validate=False, \n",
    "                                             kw_args={\"add_bedrooms_per_room\": False})), # kw_args\n",
    "        ('attribs_selector', FunctionTransformer(select_features,\n",
    "                                                kw_args={\"columns\": housing_num.columns})),\n",
    "        ('std_scaler', StandardScaler()),\n",
    "    ])\n",
    "\n",
    "try:\n",
    "    from sklearn.compose import ColumnTransformer\n",
    "except ImportError:\n",
    "    from future_encoders import ColumnTransformer # Scikit-Learn < 0.2\n",
    "\n",
    "num_attribs = list(housing_num)\n",
    "cat_attribs = [\"ocean_proximity\"]\n",
    "full_pipeline = ColumnTransformer([\n",
    "        (\"num\", num_pipeline, num_attribs),\n",
    "        (\"cat\", OneHotEncoder(), cat_attribs), # text2numeral\n",
    "    ])\n",
    "\n",
    "housing_prepared = full_pipeline.fit_transform(housing)\n"
   ]
  },
  {
   "cell_type": "raw",
   "metadata": {},
   "source": [
    "## regression"
   ]
  },
  {
   "cell_type": "code",
   "execution_count": 68,
   "metadata": {},
   "outputs": [
    {
     "name": "stdout",
     "output_type": "stream",
     "text": [
      "???\n",
      "beginaaa\n"
     ]
    },
    {
     "name": "stderr",
     "output_type": "stream",
     "text": [
      "E:\\Users\\63092\\Anaconda3\\lib\\site-packages\\sklearn\\svm\\base.py:193: FutureWarning: The default value of gamma will change from 'auto' to 'scale' in version 0.22 to account better for unscaled features. Set gamma explicitly to 'auto' or 'scale' to avoid this warning.\n",
      "  \"avoid this warning.\", FutureWarning)\n",
      "E:\\Users\\63092\\Anaconda3\\lib\\site-packages\\sklearn\\svm\\base.py:193: FutureWarning: The default value of gamma will change from 'auto' to 'scale' in version 0.22 to account better for unscaled features. Set gamma explicitly to 'auto' or 'scale' to avoid this warning.\n",
      "  \"avoid this warning.\", FutureWarning)\n",
      "E:\\Users\\63092\\Anaconda3\\lib\\site-packages\\sklearn\\svm\\base.py:193: FutureWarning: The default value of gamma will change from 'auto' to 'scale' in version 0.22 to account better for unscaled features. Set gamma explicitly to 'auto' or 'scale' to avoid this warning.\n",
      "  \"avoid this warning.\", FutureWarning)\n",
      "E:\\Users\\63092\\Anaconda3\\lib\\site-packages\\sklearn\\svm\\base.py:193: FutureWarning: The default value of gamma will change from 'auto' to 'scale' in version 0.22 to account better for unscaled features. Set gamma explicitly to 'auto' or 'scale' to avoid this warning.\n",
      "  \"avoid this warning.\", FutureWarning)\n",
      "E:\\Users\\63092\\Anaconda3\\lib\\site-packages\\sklearn\\svm\\base.py:193: FutureWarning: The default value of gamma will change from 'auto' to 'scale' in version 0.22 to account better for unscaled features. Set gamma explicitly to 'auto' or 'scale' to avoid this warning.\n",
      "  \"avoid this warning.\", FutureWarning)\n",
      "E:\\Users\\63092\\Anaconda3\\lib\\site-packages\\sklearn\\svm\\base.py:193: FutureWarning: The default value of gamma will change from 'auto' to 'scale' in version 0.22 to account better for unscaled features. Set gamma explicitly to 'auto' or 'scale' to avoid this warning.\n",
      "  \"avoid this warning.\", FutureWarning)\n",
      "E:\\Users\\63092\\Anaconda3\\lib\\site-packages\\sklearn\\svm\\base.py:193: FutureWarning: The default value of gamma will change from 'auto' to 'scale' in version 0.22 to account better for unscaled features. Set gamma explicitly to 'auto' or 'scale' to avoid this warning.\n",
      "  \"avoid this warning.\", FutureWarning)\n",
      "E:\\Users\\63092\\Anaconda3\\lib\\site-packages\\sklearn\\svm\\base.py:193: FutureWarning: The default value of gamma will change from 'auto' to 'scale' in version 0.22 to account better for unscaled features. Set gamma explicitly to 'auto' or 'scale' to avoid this warning.\n",
      "  \"avoid this warning.\", FutureWarning)\n",
      "E:\\Users\\63092\\Anaconda3\\lib\\site-packages\\sklearn\\svm\\base.py:193: FutureWarning: The default value of gamma will change from 'auto' to 'scale' in version 0.22 to account better for unscaled features. Set gamma explicitly to 'auto' or 'scale' to avoid this warning.\n",
      "  \"avoid this warning.\", FutureWarning)\n",
      "E:\\Users\\63092\\Anaconda3\\lib\\site-packages\\sklearn\\svm\\base.py:193: FutureWarning: The default value of gamma will change from 'auto' to 'scale' in version 0.22 to account better for unscaled features. Set gamma explicitly to 'auto' or 'scale' to avoid this warning.\n",
      "  \"avoid this warning.\", FutureWarning)\n"
     ]
    },
    {
     "name": "stdout",
     "output_type": "stream",
     "text": [
      "117832.70735021617 {'C': 1, 'kernel': 'rbf'}\n",
      "109524.24661586537 {'C': 10, 'kernel': 'rbf'}\n",
      "102670.28770169668 {'C': 1, 'kernel': 'linear'}\n",
      "25795.891158353093 {'C': 10, 'kernel': 'linear'}\n",
      "time: 363.6384525299072\n"
     ]
    }
   ],
   "source": [
    "from sklearn.svm import SVR\n",
    "from sklearn.metrics import mean_squared_error\n",
    "import sklearn.linear_model\n",
    "import time\n",
    "from sklearn.model_selection import GridSearchCV\n",
    "\n",
    "def cal_time():\n",
    "    start = time.time()\n",
    "    linear_reg = sklearn.linear_model.LinearRegression()\n",
    "    linear_reg.fit(housing_prepared, housing_labels)\n",
    "    housing_predictions = linear_reg.predict(housing_prepared)\n",
    "    mse_linear = mean_squared_error(housing_labels, housing_predictions)\n",
    "    rmse_linear = np.sqrt(mse_linear)\n",
    "    end = time.time()\n",
    "    \n",
    "    print(\"time:\", end-start)\n",
    "    print(\"rmse_linear\", rmse_linear)\n",
    "    start = time.time()\n",
    "    svm_reg_linear = SVR(kernel=\"linear\")\n",
    "    svm_reg_linear.fit(housing_prepared, housing_labels)\n",
    "    housing_predictions = svm_reg_linear.predict(housing_prepared)\n",
    "    svm_mse_linear = mean_squared_error(housing_labels, housing_predictions)\n",
    "    svm_rmse_linear = np.sqrt(svm_mse_linear)\n",
    "    end = time.time()\n",
    "    print(\"time:\", end-start)\n",
    "    print(\"svm_rmse_linear\", svm_rmse_linear)\n",
    "\n",
    "    start = time.time()\n",
    "    svm_reg_rbf = SVR(kernel=\"rbf\")\n",
    "    svm_reg_rbf.fit(housing_prepared, housing_labels)\n",
    "    housing_predictions = svm_reg_rbf.predict(housing_prepared)\n",
    "    svm_mse_rbf = mean_squared_error(housing_labels, housing_predictions)\n",
    "    svm_rmse_rbf = np.sqrt(svm_mse_rbf)\n",
    "    end = time.time()\n",
    "    print(\"time:\", end-start)\n",
    "    print(\"svm_rmse_rbf\", svm_rmse_rbf)"
   ]
  },
  {
   "cell_type": "code",
   "execution_count": 84,
   "metadata": {},
   "outputs": [
    {
     "name": "stderr",
     "output_type": "stream",
     "text": [
      "E:\\Users\\63092\\Anaconda3\\lib\\site-packages\\sklearn\\svm\\base.py:193: FutureWarning: The default value of gamma will change from 'auto' to 'scale' in version 0.22 to account better for unscaled features. Set gamma explicitly to 'auto' or 'scale' to avoid this warning.\n",
      "  \"avoid this warning.\", FutureWarning)\n",
      "E:\\Users\\63092\\Anaconda3\\lib\\site-packages\\sklearn\\svm\\base.py:193: FutureWarning: The default value of gamma will change from 'auto' to 'scale' in version 0.22 to account better for unscaled features. Set gamma explicitly to 'auto' or 'scale' to avoid this warning.\n",
      "  \"avoid this warning.\", FutureWarning)\n",
      "E:\\Users\\63092\\Anaconda3\\lib\\site-packages\\sklearn\\svm\\base.py:193: FutureWarning: The default value of gamma will change from 'auto' to 'scale' in version 0.22 to account better for unscaled features. Set gamma explicitly to 'auto' or 'scale' to avoid this warning.\n",
      "  \"avoid this warning.\", FutureWarning)\n",
      "E:\\Users\\63092\\Anaconda3\\lib\\site-packages\\sklearn\\svm\\base.py:193: FutureWarning: The default value of gamma will change from 'auto' to 'scale' in version 0.22 to account better for unscaled features. Set gamma explicitly to 'auto' or 'scale' to avoid this warning.\n",
      "  \"avoid this warning.\", FutureWarning)\n",
      "E:\\Users\\63092\\Anaconda3\\lib\\site-packages\\sklearn\\svm\\base.py:193: FutureWarning: The default value of gamma will change from 'auto' to 'scale' in version 0.22 to account better for unscaled features. Set gamma explicitly to 'auto' or 'scale' to avoid this warning.\n",
      "  \"avoid this warning.\", FutureWarning)\n",
      "E:\\Users\\63092\\Anaconda3\\lib\\site-packages\\sklearn\\svm\\base.py:193: FutureWarning: The default value of gamma will change from 'auto' to 'scale' in version 0.22 to account better for unscaled features. Set gamma explicitly to 'auto' or 'scale' to avoid this warning.\n",
      "  \"avoid this warning.\", FutureWarning)\n",
      "E:\\Users\\63092\\Anaconda3\\lib\\site-packages\\sklearn\\svm\\base.py:193: FutureWarning: The default value of gamma will change from 'auto' to 'scale' in version 0.22 to account better for unscaled features. Set gamma explicitly to 'auto' or 'scale' to avoid this warning.\n",
      "  \"avoid this warning.\", FutureWarning)\n",
      "E:\\Users\\63092\\Anaconda3\\lib\\site-packages\\sklearn\\svm\\base.py:193: FutureWarning: The default value of gamma will change from 'auto' to 'scale' in version 0.22 to account better for unscaled features. Set gamma explicitly to 'auto' or 'scale' to avoid this warning.\n",
      "  \"avoid this warning.\", FutureWarning)\n",
      "E:\\Users\\63092\\Anaconda3\\lib\\site-packages\\sklearn\\svm\\base.py:193: FutureWarning: The default value of gamma will change from 'auto' to 'scale' in version 0.22 to account better for unscaled features. Set gamma explicitly to 'auto' or 'scale' to avoid this warning.\n",
      "  \"avoid this warning.\", FutureWarning)\n",
      "E:\\Users\\63092\\Anaconda3\\lib\\site-packages\\sklearn\\svm\\base.py:193: FutureWarning: The default value of gamma will change from 'auto' to 'scale' in version 0.22 to account better for unscaled features. Set gamma explicitly to 'auto' or 'scale' to avoid this warning.\n",
      "  \"avoid this warning.\", FutureWarning)\n"
     ]
    },
    {
     "name": "stdout",
     "output_type": "stream",
     "text": [
      "117832.70735021617 {'C': 1, 'kernel': 'rbf'}\n",
      "102670.28770169668 {'C': 1, 'kernel': 'linear'}\n",
      "109524.24661586537 {'C': 10, 'kernel': 'rbf'}\n",
      "25795.891158353093 {'C': 10, 'kernel': 'linear'}\n",
      "time: 338.01396918296814\n"
     ]
    },
    {
     "name": "stderr",
     "output_type": "stream",
     "text": [
      "E:\\Users\\63092\\Anaconda3\\lib\\site-packages\\sklearn\\model_selection\\_search.py:266: UserWarning: The total space of parameters 4 is smaller than n_iter=10. Running 4 iterations. For exhaustive searches, use GridSearchCV.\n",
      "  % (grid_size, self.n_iter, grid_size), UserWarning)\n",
      "E:\\Users\\63092\\Anaconda3\\lib\\site-packages\\sklearn\\svm\\base.py:193: FutureWarning: The default value of gamma will change from 'auto' to 'scale' in version 0.22 to account better for unscaled features. Set gamma explicitly to 'auto' or 'scale' to avoid this warning.\n",
      "  \"avoid this warning.\", FutureWarning)\n",
      "E:\\Users\\63092\\Anaconda3\\lib\\site-packages\\sklearn\\svm\\base.py:193: FutureWarning: The default value of gamma will change from 'auto' to 'scale' in version 0.22 to account better for unscaled features. Set gamma explicitly to 'auto' or 'scale' to avoid this warning.\n",
      "  \"avoid this warning.\", FutureWarning)\n",
      "E:\\Users\\63092\\Anaconda3\\lib\\site-packages\\sklearn\\svm\\base.py:193: FutureWarning: The default value of gamma will change from 'auto' to 'scale' in version 0.22 to account better for unscaled features. Set gamma explicitly to 'auto' or 'scale' to avoid this warning.\n",
      "  \"avoid this warning.\", FutureWarning)\n",
      "E:\\Users\\63092\\Anaconda3\\lib\\site-packages\\sklearn\\svm\\base.py:193: FutureWarning: The default value of gamma will change from 'auto' to 'scale' in version 0.22 to account better for unscaled features. Set gamma explicitly to 'auto' or 'scale' to avoid this warning.\n",
      "  \"avoid this warning.\", FutureWarning)\n",
      "E:\\Users\\63092\\Anaconda3\\lib\\site-packages\\sklearn\\svm\\base.py:193: FutureWarning: The default value of gamma will change from 'auto' to 'scale' in version 0.22 to account better for unscaled features. Set gamma explicitly to 'auto' or 'scale' to avoid this warning.\n",
      "  \"avoid this warning.\", FutureWarning)\n",
      "E:\\Users\\63092\\Anaconda3\\lib\\site-packages\\sklearn\\svm\\base.py:193: FutureWarning: The default value of gamma will change from 'auto' to 'scale' in version 0.22 to account better for unscaled features. Set gamma explicitly to 'auto' or 'scale' to avoid this warning.\n",
      "  \"avoid this warning.\", FutureWarning)\n",
      "E:\\Users\\63092\\Anaconda3\\lib\\site-packages\\sklearn\\svm\\base.py:193: FutureWarning: The default value of gamma will change from 'auto' to 'scale' in version 0.22 to account better for unscaled features. Set gamma explicitly to 'auto' or 'scale' to avoid this warning.\n",
      "  \"avoid this warning.\", FutureWarning)\n",
      "E:\\Users\\63092\\Anaconda3\\lib\\site-packages\\sklearn\\svm\\base.py:193: FutureWarning: The default value of gamma will change from 'auto' to 'scale' in version 0.22 to account better for unscaled features. Set gamma explicitly to 'auto' or 'scale' to avoid this warning.\n",
      "  \"avoid this warning.\", FutureWarning)\n",
      "E:\\Users\\63092\\Anaconda3\\lib\\site-packages\\sklearn\\svm\\base.py:193: FutureWarning: The default value of gamma will change from 'auto' to 'scale' in version 0.22 to account better for unscaled features. Set gamma explicitly to 'auto' or 'scale' to avoid this warning.\n",
      "  \"avoid this warning.\", FutureWarning)\n",
      "E:\\Users\\63092\\Anaconda3\\lib\\site-packages\\sklearn\\svm\\base.py:193: FutureWarning: The default value of gamma will change from 'auto' to 'scale' in version 0.22 to account better for unscaled features. Set gamma explicitly to 'auto' or 'scale' to avoid this warning.\n",
      "  \"avoid this warning.\", FutureWarning)\n"
     ]
    },
    {
     "name": "stdout",
     "output_type": "stream",
     "text": [
      "109524.24661586537 {'kernel': 'rbf', 'C': 10}\n",
      "25795.891158353093 {'kernel': 'linear', 'C': 10}\n",
      "55919.136582840256 {'kernel': 'rbf', 'C': 100}\n",
      "0.061299590669716346 {'kernel': 'linear', 'C': 100}\n",
      "time: 1853.5447618961334\n"
     ]
    }
   ],
   "source": [
    "from sklearn.model_selection import RandomizedSearchCV\n",
    "\n",
    "param_grid = [\n",
    "    {'kernel': ['rbf', 'linear'], 'C': [1, 10]}\n",
    "  ]\n",
    "\n",
    "start = time.time()\n",
    "grid_search = GridSearchCV(SVR(), param_grid, cv=5,\n",
    "                           scoring='neg_mean_squared_error', return_train_score=True)\n",
    "grid_search.fit(housing_prepared, housing_labels)\n",
    "cvres = grid_search.cv_results_\n",
    "for mean_score, params in zip(cvres[\"mean_test_score\"], cvres[\"params\"]):\n",
    "    print(np.sqrt(-mean_score), params)\n",
    "end = time.time()\n",
    "print(\"time:\", end - start)\n",
    "\n",
    "\n",
    "param_rand = {'kernel':['rbf', 'linear'], 'C': [10, 100]}\n",
    "\n",
    "\n",
    "start = time.time()\n",
    "rand_search = RandomizedSearchCV(SVR(), param_rand, cv=5,\n",
    "                           scoring='neg_mean_squared_error', return_train_score=True)\n",
    "rand_search.fit(housing_prepared, housing_labels)\n",
    "cvres = rand_search.cv_results_\n",
    "for mean_score, params in zip(cvres[\"mean_test_score\"], cvres[\"params\"]):\n",
    "    print(np.sqrt(-mean_score), params)\n",
    "end = time.time()\n",
    "print(\"time:\", end - start)"
   ]
  },
  {
   "cell_type": "code",
   "execution_count": 87,
   "metadata": {},
   "outputs": [
    {
     "data": {
      "text/plain": [
       "243.37605476379395"
      ]
     },
     "execution_count": 87,
     "metadata": {},
     "output_type": "execute_result"
    }
   ],
   "source": [
    "grid_search.refit_time_\n",
    "rand_search.refit_time_"
   ]
  },
  {
   "cell_type": "markdown",
   "metadata": {},
   "source": [
    "## fine-tune"
   ]
  }
 ],
 "metadata": {
  "kernelspec": {
   "display_name": "Python 3",
   "language": "python",
   "name": "python3"
  },
  "language_info": {
   "codemirror_mode": {
    "name": "ipython",
    "version": 3
   },
   "file_extension": ".py",
   "mimetype": "text/x-python",
   "name": "python",
   "nbconvert_exporter": "python",
   "pygments_lexer": "ipython3",
   "version": "3.6.4"
  }
 },
 "nbformat": 4,
 "nbformat_minor": 2
}
